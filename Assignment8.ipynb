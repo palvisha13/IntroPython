{
  "nbformat": 4,
  "nbformat_minor": 0,
  "metadata": {
    "colab": {
      "name": "Assignment8.ipynb",
      "provenance": [],
      "collapsed_sections": [],
      "include_colab_link": true
    },
    "kernelspec": {
      "name": "python3",
      "display_name": "Python 3"
    }
  },
  "cells": [
    {
      "cell_type": "markdown",
      "metadata": {
        "id": "view-in-github",
        "colab_type": "text"
      },
      "source": [
        "<a href=\"https://colab.research.google.com/github/palvisha13/IntroPython/blob/master/Assignment8.ipynb\" target=\"_parent\"><img src=\"https://colab.research.google.com/assets/colab-badge.svg\" alt=\"Open In Colab\"/></a>"
      ]
    },
    {
      "cell_type": "markdown",
      "metadata": {
        "id": "MLElTbVG7xOO",
        "colab_type": "text"
      },
      "source": [
        "Question 1"
      ]
    },
    {
      "cell_type": "code",
      "metadata": {
        "id": "nFZiPsXO77HD",
        "colab_type": "code",
        "outputId": "ee1fa3fa-d314-4515-e3d3-afc8d45c21d6",
        "colab": {
          "base_uri": "https://localhost:8080/",
          "height": 325
        }
      },
      "source": [
        "import csv\n",
        "import pandas as pd\n",
        "from google.colab import drive\n",
        "drive.mount('/content/drive/')\n",
        "\n",
        "#read csv files in as pandas dataframes and make some changes to make the files neater and easier to read\n",
        "\n",
        "precipitation = pd.read_csv(\"/content/drive/My Drive/Colab Notebooks/precipitationchangeseasons_en.csv\",\n",
        "                            header=0,\n",
        "                            names=[\"Year\",\"Winter (P)\",\"Spring (P)\",\" Summer (P)\",\"Fall (P)\"],\n",
        "                            index_col=\"Year\")\n",
        "\n",
        "temperature = pd.read_csv(\"/content/drive/My Drive/Colab Notebooks/Temperature-change-seasonal-en.csv\",\n",
        "                          header=0,\n",
        "                          names=[\"Year\",\"Winter (T)\",\"Spring (T)\",\"Summer (T)\",\"Fall (T)\"],\n",
        "                          index_col=\"Year\")\n",
        "\n",
        "#NOTE: When identifiying my file path, my csv files were not stored under another folder called csv, so that isn't in my file path like \n",
        "#in the demos, so you may need to include that in when running the code\n",
        "\n",
        "#combines precipitation and temperature dataframes together into a new dataframe called \"weather\"\n",
        "weather = pd.concat([precipitation, temperature],axis=1)\n",
        "\n",
        "#drops rows with NaN values (ie rows with Years that do not exist in both files)\n",
        "weather = weather.dropna()\n",
        "\n",
        "#average change calculations\n",
        "\n",
        "for i in weather:\n",
        "\n",
        "  #calculates annual change in precipitation for each year\n",
        "  weather[\"Annual (P)\"] = weather[[\"Winter (P)\",\"Fall (P)\"]].mean(axis=1)\n",
        "\n",
        "  #calculates annual change in temperature for each year \n",
        "  weather[\"Annual (T)\"] = weather[[\"Winter (T)\",\"Fall (T)\"]].mean(axis=1)\n",
        "\n",
        "#prints the modified dataframe\n",
        "#print(weather)\n",
        "\n",
        "#saves the modified dataframe as a new csv file\n",
        "weather.to_csv(\"/content/drive/My Drive/Colab Notebooks/seasonal_weather.csv\")\n",
        "#reads out the newly saved csv file and prints the file out\n",
        "seasonal_weather = pd.read_csv(\"/content/drive/My Drive/Colab Notebooks/seasonal_weather.csv\",header=0,index_col=\"Year\")\n",
        "print(seasonal_weather)"
      ],
      "execution_count": 0,
      "outputs": [
        {
          "output_type": "stream",
          "text": [
            "Drive already mounted at /content/drive/; to attempt to forcibly remount, call drive.mount(\"/content/drive/\", force_remount=True).\n",
            "      Winter (P)  Spring (P)   Summer (P)  ...  Fall (T)  Annual (P)  Annual (T)\n",
            "Year                                       ...                                  \n",
            "1948       -15.1       -10.3          0.7  ...       1.7      -17.45        0.95\n",
            "1949       -17.3       -16.1         -6.5  ...       0.8      -13.70       -0.60\n",
            "1950       -13.0       -24.2         -9.3  ...      -0.9      -11.15       -1.95\n",
            "1951        -4.7        -2.0        -10.5  ...      -0.6       -6.05       -0.45\n",
            "1952       -16.8       -10.5          3.9  ...       0.7      -20.05       -0.40\n",
            "...          ...         ...          ...  ...       ...         ...         ...\n",
            "2010        -2.3         4.5          7.1  ...       2.3        6.10        3.20\n",
            "2011        28.2        -3.4         12.0  ...       2.1       15.00        2.30\n",
            "2012         5.9        20.0          4.4  ...       1.2        8.55        2.45\n",
            "2013         5.4         4.5          1.8  ...       1.3        3.20        1.45\n",
            "2014       -14.8         1.4          5.8  ...       0.6       -8.15        0.05\n",
            "\n",
            "[67 rows x 10 columns]\n"
          ],
          "name": "stdout"
        }
      ]
    },
    {
      "cell_type": "code",
      "metadata": {
        "id": "Z-DR3nXYARiR",
        "colab_type": "code",
        "colab": {}
      },
      "source": [
        ""
      ],
      "execution_count": 0,
      "outputs": []
    },
    {
      "cell_type": "markdown",
      "metadata": {
        "id": "iEF6io940IC-",
        "colab_type": "text"
      },
      "source": [
        "Question 2"
      ]
    },
    {
      "cell_type": "code",
      "metadata": {
        "id": "Bapgu7JU0I94",
        "colab_type": "code",
        "outputId": "0b5e10c8-716f-4dab-e0fe-7310b09232ea",
        "colab": {
          "base_uri": "https://localhost:8080/",
          "height": 1000
        }
      },
      "source": [
        "#uncomment these 4 commented lines below if needed, although if the first cell above is ran, these lines do not need to be \n",
        "#uncommented\n",
        "\n",
        "#import csv\n",
        "#import pandas as pd\n",
        "#from google.colab import drive\n",
        "#drive.mount('/content/drive/')\n",
        "\n",
        "#reads out seasonal_weather.csv\n",
        "seasonal_weather = pd.read_csv(\"/content/drive/My Drive/Colab Notebooks/seasonal_weather.csv\",header=0,index_col=\"Year\")\n",
        "\n",
        "#reads out the APLI data\n",
        "alpi_data = pd.read_csv(\"/content/drive/My Drive/Colab Notebooks/ALPI_1900_2015_EN.csv\",header=0,names=[\"Year\",\"Pressure\"],index_col=\"Year\")\n",
        "\n",
        "#takes a snapshot of seasonal_weather.csv from index = 1990 to the value of the index corresponding to the last row in the dataframe\n",
        "snapshot =  seasonal_weather.loc[1990:seasonal_weather.index[-1]]\n",
        "\n",
        "#snapshot being saved as a new csv file called weather_snapshot.csv\n",
        "snapshot.to_csv('/content/drive/My Drive/Colab Notebooks/weather_snapshot.csv')\n",
        "\n",
        "#reads out weather_snapshot.csv \n",
        "weather_snapshot = pd.read_csv('/content/drive/My Drive/Colab Notebooks/weather_snapshot.csv',header=0,index_col=\"Year\")\n",
        "\n",
        "#prints unmodified snapshot\n",
        "print(\"weather_snapshot.csv without pressure column (just snapshot): \\n\" ,weather_snapshot)\n",
        "\n",
        "#APLI data added to the file\n",
        "weather_snapshot = pd.concat([weather_snapshot,alpi_data],axis=1)\n",
        "\n",
        "#NaN rows deleted\n",
        "weather_snapshot= weather_snapshot.dropna()\n",
        "\n",
        "#overwrites previous weather_snapshot file with the modified one with the pressure column included\n",
        "weather_snapshot.to_csv('/content/drive/My Drive/Colab Notebooks/weather_snapshot.csv')\n",
        "\n",
        "#reads out modified weather_snapshot file and prints it out\n",
        "file = pd.read_csv('/content/drive/My Drive/Colab Notebooks/weather_snapshot.csv',header=0,index_col=\"Year\")\n",
        "\n",
        "#prints modified snapshot (with pressure column)\n",
        "print(\"weather_snapshot.csv with pressure column: \\n\",file)\n"
      ],
      "execution_count": 0,
      "outputs": [
        {
          "output_type": "stream",
          "text": [
            "weather_snapshot.csv without pressure column (just snapshot): \n",
            "       Winter (P)  Spring (P)   Summer (P)  ...  Fall (T)  Annual (P)  Annual (T)\n",
            "Year                                       ...                                  \n",
            "1990        -1.4         7.7         -0.8  ...      -0.8        3.35       -0.90\n",
            "1991         2.7         6.8          8.6  ...      -0.5        7.35       -0.55\n",
            "1992        11.9         7.7         -8.3  ...      -0.2        9.45        0.40\n",
            "1993        -3.3         0.2         11.2  ...      -0.5       -2.90       -0.30\n",
            "1994        -4.8         8.5         -0.7  ...       1.5       -1.40       -0.05\n",
            "1995        -1.9        -0.6          0.1  ...       0.1        3.15        0.90\n",
            "1996        15.3         4.0          5.3  ...      -0.3       12.75       -0.40\n",
            "1997        18.0         0.8         10.4  ...       0.8       11.65        0.70\n",
            "1998        -4.5        -8.9         -1.0  ...       2.5       -1.40        2.65\n",
            "1999         9.0        15.3          4.4  ...       1.2        4.65        1.85\n",
            "2000        -0.1         2.4          8.9  ...       0.8       -1.30        1.65\n",
            "2001        -0.9        12.1          1.1  ...       1.6       -2.70        1.45\n",
            "2002        -4.3        -0.3         12.6  ...       0.9       -4.00        1.65\n",
            "2003         1.8         8.9          1.3  ...       1.6        5.95        1.85\n",
            "2004         8.5        10.5         -5.1  ...       0.7        9.25        1.10\n",
            "2005        19.1        16.8         14.5  ...       1.9       16.00        1.15\n",
            "2006        10.7        14.1         -5.3  ...       1.1        8.10        2.50\n",
            "2007        -0.7        10.0          5.2  ...       0.8        5.40        1.95\n",
            "2008        11.3        -3.8         10.9  ...       1.5        5.55        1.00\n",
            "2009        14.2         4.7          4.3  ...       1.9        9.20        1.00\n",
            "2010        -2.3         4.5          7.1  ...       2.3        6.10        3.20\n",
            "2011        28.2        -3.4         12.0  ...       2.1       15.00        2.30\n",
            "2012         5.9        20.0          4.4  ...       1.2        8.55        2.45\n",
            "2013         5.4         4.5          1.8  ...       1.3        3.20        1.45\n",
            "2014       -14.8         1.4          5.8  ...       0.6       -8.15        0.05\n",
            "\n",
            "[25 rows x 10 columns]\n",
            "weather_snapshot.csv with pressure column: \n",
            "       Winter (P)  Spring (P)   Summer (P)  ...  Annual (P)  Annual (T)  Pressure\n",
            "Year                                       ...                                  \n",
            "1990        -1.4         7.7         -0.8  ...        3.35       -0.90     -0.87\n",
            "1991         2.7         6.8          8.6  ...        7.35       -0.55      0.45\n",
            "1992        11.9         7.7         -8.3  ...        9.45        0.40      2.14\n",
            "1993        -3.3         0.2         11.2  ...       -2.90       -0.30     -0.94\n",
            "1994        -4.8         8.5         -0.7  ...       -1.40       -0.05     -0.63\n",
            "1995        -1.9        -0.6          0.1  ...        3.15        0.90      1.59\n",
            "1996        15.3         4.0          5.3  ...       12.75       -0.40      0.86\n",
            "1997        18.0         0.8         10.4  ...       11.65        0.70      0.49\n",
            "1998        -4.5        -8.9         -1.0  ...       -1.40        2.65      4.58\n",
            "1999         9.0        15.3          4.4  ...        4.65        1.85      0.13\n",
            "2000        -0.1         2.4          8.9  ...       -1.30        1.65      0.26\n",
            "2001        -0.9        12.1          1.1  ...       -2.70        1.45      1.50\n",
            "2002        -4.3        -0.3         12.6  ...       -4.00        1.65     -0.37\n",
            "2003         1.8         8.9          1.3  ...        5.95        1.85      2.80\n",
            "2004         8.5        10.5         -5.1  ...        9.25        1.10      2.83\n",
            "2005        19.1        16.8         14.5  ...       16.00        1.15      0.90\n",
            "2006        10.7        14.1         -5.3  ...        8.10        2.50      0.37\n",
            "2007        -0.7        10.0          5.2  ...        5.40        1.95      0.55\n",
            "2008        11.3        -3.8         10.9  ...        5.55        1.00     -1.10\n",
            "2009        14.2         4.7          4.3  ...        9.20        1.00     -3.96\n",
            "2010        -2.3         4.5          7.1  ...        6.10        3.20      4.08\n",
            "2011        28.2        -3.4         12.0  ...       15.00        2.30     -0.62\n",
            "2012         5.9        20.0          4.4  ...        8.55        2.45      0.27\n",
            "2013         5.4         4.5          1.8  ...        3.20        1.45     -0.12\n",
            "2014       -14.8         1.4          5.8  ...       -8.15        0.05     -0.57\n",
            "\n",
            "[25 rows x 11 columns]\n"
          ],
          "name": "stdout"
        }
      ]
    }
  ]
}