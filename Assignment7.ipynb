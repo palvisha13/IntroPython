{
  "nbformat": 4,
  "nbformat_minor": 0,
  "metadata": {
    "colab": {
      "name": "Assignment7.ipynb",
      "provenance": [],
      "collapsed_sections": [],
      "include_colab_link": true
    },
    "kernelspec": {
      "name": "python3",
      "display_name": "Python 3"
    }
  },
  "cells": [
    {
      "cell_type": "markdown",
      "metadata": {
        "id": "view-in-github",
        "colab_type": "text"
      },
      "source": [
        "<a href=\"https://colab.research.google.com/github/palvisha13/IntroPython/blob/master/Assignment7.ipynb\" target=\"_parent\"><img src=\"https://colab.research.google.com/assets/colab-badge.svg\" alt=\"Open In Colab\"/></a>"
      ]
    },
    {
      "cell_type": "markdown",
      "metadata": {
        "id": "MLElTbVG7xOO",
        "colab_type": "text"
      },
      "source": [
        "Question 1"
      ]
    },
    {
      "cell_type": "code",
      "metadata": {
        "id": "cZG4Pi_IS-_g",
        "colab_type": "code",
        "colab": {}
      },
      "source": [
        "#function that prints out a list of all of the Friday the 13s from the year 2000 to 2020\n",
        "\n",
        "def Fri_13():\n",
        "  import datetime \n",
        "  dates = []\n",
        "  year = 2000\n",
        "  while year <= 2020:\n",
        "    month = 1\n",
        "    while month <= 12:\n",
        "      date_time = datetime.date(year = year, month = month, day = 13)\n",
        "      if date_time.weekday() == 4:\n",
        "        #adds the datetimes corresponding into the list initialized before the first while loop\n",
        "        date_time= date_time.strftime('%Y/%m/%d')\n",
        "        dates.append(date_time)\n",
        "      month += 1\n",
        "    year += 1\n",
        "  print(\"The Friday the 13s are:\", dates)\n",
        "\n"
      ],
      "execution_count": 0,
      "outputs": []
    },
    {
      "cell_type": "code",
      "metadata": {
        "id": "el0o2DOzTjQR",
        "colab_type": "code",
        "outputId": "3280e3c4-0bca-45a0-cf33-684d17f324f7",
        "colab": {
          "base_uri": "https://localhost:8080/",
          "height": 54
        }
      },
      "source": [
        "#write your main function here\n",
        "#main function calls and prints the result of the function that creates a list of the Friday the 13s from 2000 to 2020\n",
        "def main():\n",
        "  Fri_13()\n",
        "main()"
      ],
      "execution_count": 0,
      "outputs": [
        {
          "output_type": "stream",
          "text": [
            "The Friday the 13s are: ['2000/10/13', '2001/04/13', '2001/07/13', '2002/09/13', '2002/12/13', '2003/06/13', '2004/02/13', '2004/08/13', '2005/05/13', '2006/01/13', '2006/10/13', '2007/04/13', '2007/07/13', '2008/06/13', '2009/02/13', '2009/03/13', '2009/11/13', '2010/08/13', '2011/05/13', '2012/01/13', '2012/04/13', '2012/07/13', '2013/09/13', '2013/12/13', '2014/06/13', '2015/02/13', '2015/03/13', '2015/11/13', '2016/05/13', '2017/01/13', '2017/10/13', '2018/04/13', '2018/07/13', '2019/09/13', '2019/12/13', '2020/03/13', '2020/11/13']\n"
          ],
          "name": "stdout"
        }
      ]
    },
    {
      "cell_type": "markdown",
      "metadata": {
        "id": "VcjCXRLAT6dF",
        "colab_type": "text"
      },
      "source": [
        "I have also made a general version of the function below which will work according to user input to give a list of dates corresponding to user specified date and specified day of the week, not necessarily Friday the 13th."
      ]
    },
    {
      "cell_type": "code",
      "metadata": {
        "id": "_-5Gqky3A-g3",
        "colab_type": "code",
        "colab": {}
      },
      "source": [
        "\n",
        "#Menu of numbers corresponding to each weekday.Displays when the program runs\n",
        "\n",
        "def menu():\n",
        "  menu = \"\"\" Numbers corresponding to the weekdays. \n",
        "    i) Monday = 0\n",
        "    ii) Tuesday = 1\n",
        "    iii) Wednesday = 2\n",
        "    iv) Thursday = 3\n",
        "    v) Friday = 4\n",
        "    vi) Saturday = 5\n",
        "    vii) Sunday = 6 \n",
        "    \"\"\"\n",
        "  return menu\n",
        "\n",
        "#This program prints a list of all of the dates corresponding to the specified weekday and date within the specified years\n",
        "\n",
        "def general():\n",
        "  import datetime\n",
        "  #creates an empty list to store the dates \n",
        "  dates = []\n",
        "  #user specified input \n",
        "\n",
        "  year = int(input(\"Enter the initial year you would like to begin with: \"))\n",
        "  final_year = int(input(\"Enter the final year you would like to end at: \"))\n",
        "  date = int(input(\"Enter the specific date you are looking for: \"))\n",
        "  weekday = int(input(\"Enter the number corresponding to the specific weekday you are looking for: \"))\n",
        "  while year <= final_year:\n",
        "    month = 1\n",
        "    while month <= 12:\n",
        "      date_time = datetime.date(year = year, month = month, day = date)\n",
        "      if date_time.weekday() == weekday:\n",
        "\n",
        "        #adds the datetimes corresponding to user input into the list initialized before the first while loop\n",
        "        date_time= date_time.strftime('%Y/%m/%d')\n",
        "        dates.append(date_time)\n",
        "      month += 1\n",
        "    year +=1\n",
        "  print(dates)"
      ],
      "execution_count": 0,
      "outputs": []
    },
    {
      "cell_type": "code",
      "metadata": {
        "id": "a2vuchKj7zmr",
        "colab_type": "code",
        "outputId": "0c19850b-8cc5-45b8-f8b8-7a37b0c8b780",
        "colab": {
          "base_uri": "https://localhost:8080/",
          "height": 275
        }
      },
      "source": [
        "def main_1():\n",
        "  # Write your main function here\n",
        "  #calls the function \n",
        "  #to list the Friday the 13s from 2000 to 2020\n",
        "  print(menu())\n",
        "  general()\n",
        "main_1()"
      ],
      "execution_count": 0,
      "outputs": [
        {
          "output_type": "stream",
          "text": [
            " Numbers corresponding to the weekdays. \n",
            "    i) Monday = 0\n",
            "    ii) Tuesday = 1\n",
            "    iii) Wednesday = 2\n",
            "    iv) Thursday = 3\n",
            "    v) Friday = 4\n",
            "    vi) Saturday = 5\n",
            "    vii) Sunday = 6 \n",
            "    \n",
            "Enter the initial year you would like to begin with: 2000\n",
            "Enter the final year you would like to end at: 2020\n",
            "Enter the specific date you are looking for: 13\n",
            "Enter the number corresponding to the specific weekday you are looking for: 4\n",
            "['2000/10/13', '2001/04/13', '2001/07/13', '2002/09/13', '2002/12/13', '2003/06/13', '2004/02/13', '2004/08/13', '2005/05/13', '2006/01/13', '2006/10/13', '2007/04/13', '2007/07/13', '2008/06/13', '2009/02/13', '2009/03/13', '2009/11/13', '2010/08/13', '2011/05/13', '2012/01/13', '2012/04/13', '2012/07/13', '2013/09/13', '2013/12/13', '2014/06/13', '2015/02/13', '2015/03/13', '2015/11/13', '2016/05/13', '2017/01/13', '2017/10/13', '2018/04/13', '2018/07/13', '2019/09/13', '2019/12/13', '2020/03/13', '2020/11/13']\n"
          ],
          "name": "stdout"
        }
      ]
    },
    {
      "cell_type": "markdown",
      "metadata": {
        "id": "iEF6io940IC-",
        "colab_type": "text"
      },
      "source": [
        "Question 2"
      ]
    },
    {
      "cell_type": "code",
      "metadata": {
        "id": "hgr2vZl3Vbai",
        "colab_type": "code",
        "colab": {}
      },
      "source": [
        "\n",
        "#function to write and overwrite data in specified file\n",
        "\n",
        "def write(file, suits_and_values):\n",
        "  with open(file, 'w') as file:\n",
        "    file.write(suits_and_values)"
      ],
      "execution_count": 0,
      "outputs": []
    },
    {
      "cell_type": "code",
      "metadata": {
        "id": "6X3oe1fQWq23",
        "colab_type": "code",
        "colab": {}
      },
      "source": [
        "#function to read out data in specified file\n",
        "def read(name):\n",
        "  with open(name, \"r\") as file:\n",
        "    print(file.read())"
      ],
      "execution_count": 0,
      "outputs": []
    },
    {
      "cell_type": "code",
      "metadata": {
        "id": "Bapgu7JU0I94",
        "colab_type": "code",
        "outputId": "e8aa4eab-cada-46c8-affe-54acf0d6c9af",
        "colab": {
          "base_uri": "https://localhost:8080/",
          "height": 51
        }
      },
      "source": [
        "import random\n",
        "from google.colab import drive \n",
        "drive.mount('/content/drive/')\n",
        "\n",
        "range_random = random.randrange(1,53)\n",
        "\n",
        "#initialized set of playing cards\n",
        "playing_cards = set()\n",
        "\n",
        "#list of suits\n",
        "suits =  ['Hearts', 'Spades','Diamonds','Clubs']\n",
        "\n",
        "#creates a file\n",
        "file = open(\"cards.text\",\"w+\")\n",
        "\n",
        "#for loop runs till a random number between 1 and 52 (the total number of cards in a deck)\n",
        "\n",
        "for i in range(1,range_random):\n",
        "  #a random value between 1 to 13 is assigned to each card as each suit can have 13 possible cards\n",
        "\n",
        "  value= random.randint(1,13)\n",
        "  if value ==1:\n",
        "    value = \"Ace\"\n",
        "  elif value ==11:\n",
        "    value = \"Jack\"\n",
        "  elif value == 12:\n",
        "    value = \"Queen\"\n",
        "  elif value == 13:\n",
        "    value = \"King\"\n",
        "\n",
        "  #saves each suit value pair as a single string \n",
        "  card = random.choice(suits)+' '+str(value)\n",
        "\n",
        "  #makes a set of all the suit/value pairs so that there are no repeats and adds them to initialized set\n",
        "  playing_cards.add(card)\n",
        "\n",
        "  #writes and overwrites file with randomized set of playing cards and then reads out the file\n",
        "  write(\"/content/drive/My Drive/Colab Notebooks/cards.txt\", str(playing_cards))\n",
        "\n",
        "read(\"/content/drive/My Drive/Colab Notebooks/cards.txt\")\n",
        "\n",
        "\n"
      ],
      "execution_count": 0,
      "outputs": [
        {
          "output_type": "stream",
          "text": [
            "Drive already mounted at /content/drive/; to attempt to forcibly remount, call drive.mount(\"/content/drive/\", force_remount=True).\n",
            "{'Spades King', 'Hearts 5', 'Clubs 4', 'Hearts Jack', 'Spades Jack'}\n"
          ],
          "name": "stdout"
        }
      ]
    }
  ]
}